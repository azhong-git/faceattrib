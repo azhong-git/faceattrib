{
 "metadata": {
  "name": "",
  "signature": "sha256:e92c3828f413550d463bcfbf340c90bb43e3c862e93d13218cdc8d99f258e08a"
 },
 "nbformat": 3,
 "nbformat_minor": 0,
 "worksheets": [
  {
   "cells": [
    {
     "cell_type": "code",
     "collapsed": false,
     "input": [
      "import keras\n",
      "from keras.models import load_model\n",
      "\n",
      "# definte relu6\n",
      "from tensorflow.python.keras import backend as K\n",
      "def relu6(x):\n",
      "    return K.relu(x, max_value=6)\n",
      "    \n",
      "model = load_model('models/mobilenet_1.0_224_2018_06_13_17_27_59/face_attrib_mobilenet_1.0_224.25-0.32-0.08.hdf5', \n",
      "                   custom_objects={'relu6': relu6})\n"
     ],
     "language": "python",
     "metadata": {},
     "outputs": [
      {
       "output_type": "stream",
       "stream": "stderr",
       "text": [
        "Using TensorFlow backend.\n"
       ]
      }
     ],
     "prompt_number": 1
    },
    {
     "cell_type": "code",
     "collapsed": false,
     "input": [
      "import pickle\n",
      "import os\n",
      "from data import split_data_by_ratio\n",
      "validation_split = .2\n",
      "data_file = os.path.join('data/data_224_224_3_limit_-1.p')\n",
      "data = pickle.load(open(data_file, 'rb'))\n",
      "faces = data['faces']\n",
      "attributes = data['attributes']\n",
      "labels = data['labels']\n",
      "train_data, val_data = split_data_by_ratio(faces, attributes, split=validation_split)\n",
      "train_images, train_vals = train_data\n",
      "val_images, val_vals = val_data"
     ],
     "language": "python",
     "metadata": {},
     "outputs": [],
     "prompt_number": 6
    },
    {
     "cell_type": "code",
     "collapsed": false,
     "input": [
      "val_predicted = model.predict(val_images)"
     ],
     "language": "python",
     "metadata": {},
     "outputs": [],
     "prompt_number": 9
    },
    {
     "cell_type": "code",
     "collapsed": false,
     "input": [
      "import numpy as np\n",
      "val_predicted_rounded = np.round(val_predicted)"
     ],
     "language": "python",
     "metadata": {},
     "outputs": [],
     "prompt_number": 18
    },
    {
     "cell_type": "code",
     "collapsed": false,
     "input": [
      "def get_accuracies(predicted, gt):\n",
      "    assert predicted.shape == gt.shape \n",
      "    num_cols = len(predicted[0])\n",
      "    num_rows = len(predicted)\n",
      "    accuracies = []\n",
      "    for i in range(num_cols):\n",
      "        accuracies.append(0)\n",
      "    for j in range(num_rows):\n",
      "        for i in range(num_cols):\n",
      "            if predicted[j][i] == gt[j][i]:\n",
      "                accuracies[i] += 1\n",
      "    for i in range(num_cols):\n",
      "        accuracies[i] = accuracies[i] / 1.0 / num_rows\n",
      "    return accuracies\n",
      "\n",
      "accuracies = get_accuracies(val_predicted_rounded, val_vals)\n",
      "for i in range(len(labels)):\n",
      "    print('{}, {:.04f}'.format(labels[i], accuracies[i]))\n",
      "    \n"
     ],
     "language": "python",
     "metadata": {},
     "outputs": [
      {
       "output_type": "stream",
       "stream": "stdout",
       "text": [
        "male, 0.9798\n",
        "asianindian, 0.9597\n",
        "eastasian, 0.9779\n",
        "african, 0.9749\n",
        "latino, 0.9175\n",
        "caucasian, 0.9026\n",
        "5_o_Clock_Shadow, 0.7973\n",
        "Arched_Eyebrows, 0.8258\n",
        "Attractive, 0.8197\n",
        "Bags_Under_Eyes, 0.8532\n",
        "Bald, 0.9300\n",
        "Bangs, 0.9038\n",
        "Big_Lips, 0.8144\n",
        "Big_Nose, 0.8585\n",
        "Black_Hair, 0.9167\n",
        "Blond_Hair, 0.9745\n",
        "Blurry, 0.8813\n",
        "Brown_Hair, 0.8170\n",
        "Bushy_Eyebrows, 0.8756\n",
        "Chubby, 0.7908\n",
        "Double_Chin, 0.8444\n",
        "Eyeglasses, 0.9197\n",
        "Goatee, 0.8421\n",
        "Gray_Hair, 0.8969\n",
        "Heavy_Makeup, 0.9528\n",
        "High_Cheekbones, 0.8943\n",
        "Mouth_Slightly_Open, 0.8338\n",
        "Mustache, 0.9483\n",
        "Narrow_Eyes, 0.8391\n",
        "No_Beard, 0.8266\n",
        "Oval_Face, 0.8060\n",
        "Pale_Skin, 0.9163\n",
        "Pointy_Nose, 0.8604\n",
        "Receding_Hairline, 0.8775\n",
        "Rosy_Cheeks, 0.8920\n",
        "Sideburns, 0.8410\n",
        "Smiling, 0.9178\n",
        "Straight_Hair, 0.8368\n",
        "Wavy_Hair, 0.8250\n",
        "Wearing_Earrings, 0.9509\n",
        "Wearing_Hat, 0.9140\n",
        "Wearing_Lipstick, 0.9528\n",
        "Wearing_Necklace, 0.9060\n",
        "Wearing_Necktie, 0.8102\n",
        "Young, 0.8631\n"
       ]
      }
     ],
     "prompt_number": 28
    },
    {
     "cell_type": "code",
     "collapsed": false,
     "input": [
      "np.mean(accuracies)"
     ],
     "language": "python",
     "metadata": {},
     "outputs": [
      {
       "metadata": {},
       "output_type": "pyout",
       "prompt_number": 27,
       "text": [
        "0.8830903173999409"
       ]
      }
     ],
     "prompt_number": 27
    },
    {
     "cell_type": "code",
     "collapsed": false,
     "input": [],
     "language": "python",
     "metadata": {},
     "outputs": []
    }
   ],
   "metadata": {}
  }
 ]
}