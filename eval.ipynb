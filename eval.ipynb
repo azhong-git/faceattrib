{
 "cells": [
  {
   "cell_type": "code",
   "execution_count": null,
   "metadata": {},
   "outputs": [],
   "source": [
    "import keras\n",
    "from keras.models import load_model\n",
    "\n",
    "# definte relu6\n",
    "from tensorflow.python.keras import backend as K\n",
    "def relu6(x):\n",
    "    return K.relu(x, max_value=6)\n",
    "    \n",
    "model = load_model('models/mobilenet_1.0_224_2018_06_13_17_27_59/face_attrib_mobilenet_1.0_224.25-0.32-0.08.hdf5', \n",
    "                   custom_objects={'relu6': relu6})"
   ]
  },
  {
   "cell_type": "code",
   "execution_count": 6,
   "metadata": {},
   "outputs": [],
   "source": [
    "import pickle\n",
    "import os\n",
    "from data import split_data_by_ratio\n",
    "validation_split = .2\n",
    "data_file = os.path.join('data/data_224_224_3_limit_-1.p')\n",
    "data = pickle.load(open(data_file, 'rb'))\n",
    "faces = data['faces']\n",
    "attributes = data['attributes']\n",
    "labels = data['labels']\n",
    "train_data, val_data = split_data_by_ratio(faces, attributes, split=validation_split)\n",
    "train_images, train_vals = train_data\n",
    "val_images, val_vals = val_data"
   ]
  },
  {
   "cell_type": "code",
   "execution_count": 9,
   "metadata": {},
   "outputs": [],
   "source": [
    "val_predicted = model.predict(val_images)"
   ]
  },
  {
   "cell_type": "code",
   "execution_count": 18,
   "metadata": {},
   "outputs": [],
   "source": [
    "import numpy as np\n",
    "val_predicted_rounded = np.round(val_predicted)"
   ]
  },
  {
   "cell_type": "code",
   "execution_count": 28,
   "metadata": {},
   "outputs": [
    {
     "name": "stdout",
     "output_type": "stream",
     "text": [
      "male, 0.9798\n",
      "asianindian, 0.9597\n",
      "eastasian, 0.9779\n",
      "african, 0.9749\n",
      "latino, 0.9175\n",
      "caucasian, 0.9026\n",
      "5_o_Clock_Shadow, 0.7973\n",
      "Arched_Eyebrows, 0.8258\n",
      "Attractive, 0.8197\n",
      "Bags_Under_Eyes, 0.8532\n",
      "Bald, 0.9300\n",
      "Bangs, 0.9038\n",
      "Big_Lips, 0.8144\n",
      "Big_Nose, 0.8585\n",
      "Black_Hair, 0.9167\n",
      "Blond_Hair, 0.9745\n",
      "Blurry, 0.8813\n",
      "Brown_Hair, 0.8170\n",
      "Bushy_Eyebrows, 0.8756\n",
      "Chubby, 0.7908\n",
      "Double_Chin, 0.8444\n",
      "Eyeglasses, 0.9197\n",
      "Goatee, 0.8421\n",
      "Gray_Hair, 0.8969\n",
      "Heavy_Makeup, 0.9528\n",
      "High_Cheekbones, 0.8943\n",
      "Mouth_Slightly_Open, 0.8338\n",
      "Mustache, 0.9483\n",
      "Narrow_Eyes, 0.8391\n",
      "No_Beard, 0.8266\n",
      "Oval_Face, 0.8060\n",
      "Pale_Skin, 0.9163\n",
      "Pointy_Nose, 0.8604\n",
      "Receding_Hairline, 0.8775\n",
      "Rosy_Cheeks, 0.8920\n",
      "Sideburns, 0.8410\n",
      "Smiling, 0.9178\n",
      "Straight_Hair, 0.8368\n",
      "Wavy_Hair, 0.8250\n",
      "Wearing_Earrings, 0.9509\n",
      "Wearing_Hat, 0.9140\n",
      "Wearing_Lipstick, 0.9528\n",
      "Wearing_Necklace, 0.9060\n",
      "Wearing_Necktie, 0.8102\n",
      "Young, 0.8631\n"
     ]
    }
   ],
   "source": [
    "def get_accuracies(predicted, gt):\n",
    "    assert predicted.shape == gt.shape \n",
    "    num_cols = len(predicted[0])\n",
    "    num_rows = len(predicted)\n",
    "    accuracies = []\n",
    "    for i in range(num_cols):\n",
    "        accuracies.append(0)\n",
    "    for j in range(num_rows):\n",
    "        for i in range(num_cols):\n",
    "            if predicted[j][i] == gt[j][i]:\n",
    "                accuracies[i] += 1\n",
    "    for i in range(num_cols):\n",
    "        accuracies[i] = accuracies[i] / 1.0 / num_rows\n",
    "    return accuracies\n",
    "\n",
    "accuracies = get_accuracies(val_predicted_rounded, val_vals)\n",
    "for i in range(len(labels)):\n",
    "    print('{}, {:.04f}'.format(labels[i], accuracies[i]))\n",
    "    \n"
   ]
  },
  {
   "cell_type": "code",
   "execution_count": 27,
   "metadata": {},
   "outputs": [
    {
     "data": {
      "text/plain": [
       "0.8830903173999409"
      ]
     },
     "execution_count": 27,
     "metadata": {},
     "output_type": "execute_result"
    }
   ],
   "source": [
    "np.mean(accuracies)"
   ]
  },
  {
   "cell_type": "code",
   "execution_count": null,
   "metadata": {},
   "outputs": [],
   "source": []
  },
  {
   "cell_type": "code",
   "execution_count": null,
   "metadata": {},
   "outputs": [],
   "source": []
  }
 ],
 "metadata": {
  "kernelspec": {
   "display_name": "Python 3",
   "language": "python",
   "name": "python3"
  },
  "language_info": {
   "codemirror_mode": {
    "name": "ipython",
    "version": 3
   },
   "file_extension": ".py",
   "mimetype": "text/x-python",
   "name": "python",
   "nbconvert_exporter": "python",
   "pygments_lexer": "ipython3",
   "version": "3.5.2"
  }
 },
 "nbformat": 4,
 "nbformat_minor": 1
}
